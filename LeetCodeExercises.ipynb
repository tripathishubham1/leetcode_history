{
  "nbformat": 4,
  "nbformat_minor": 0,
  "metadata": {
    "colab": {
      "name": "LeetCodeExercises.ipynb",
      "provenance": [],
      "authorship_tag": "ABX9TyMBUu1j1M04Ebsjk8O0VB+Q",
      "include_colab_link": true
    },
    "kernelspec": {
      "name": "python3",
      "display_name": "Python 3"
    },
    "language_info": {
      "name": "python"
    }
  },
  "cells": [
    {
      "cell_type": "markdown",
      "metadata": {
        "id": "view-in-github",
        "colab_type": "text"
      },
      "source": [
        "<a href=\"https://colab.research.google.com/github/tripathishubham1/leetcode_history/blob/main/LeetCodeExercises.ipynb\" target=\"_parent\"><img src=\"https://colab.research.google.com/assets/colab-badge.svg\" alt=\"Open In Colab\"/></a>"
      ]
    },
    {
      "cell_type": "code",
      "metadata": {
        "colab": {
          "base_uri": "https://localhost:8080/"
        },
        "id": "56uDnelxvZ8J",
        "outputId": "2f82f5f7-fbec-4315-95cc-40d4aceaf9c3"
      },
      "source": [
        "listc = [[]]\n",
        "lists = [[]]\n",
        "listk = [[]]\n",
        "class py_solution:\n",
        "    def sub_sets(self, sset):\n",
        "        return self.subsetsRecur([], sorted(sset))\n",
        "    \n",
        "    def subsetsRecur(self, current, sset):\n",
        "        if sset:\n",
        "            return self.subsetsRecur(current, sset[1:]) + self.subsetsRecur(current + [sset[0]], sset[1:])\n",
        "        return [current]\n",
        "\n",
        "\n",
        "\n",
        "nums = list(map(int,input().split()))\n",
        "target = int(input())\n",
        "listf = py_solution().sub_sets(nums)\n",
        "\n",
        "for j in listf:\n",
        "  lists.append(sum(j))\n",
        "lindex = lists.index(target)\n",
        "\n",
        "listc = listf[lindex-1]\n",
        "\n",
        "for i in listc:\n",
        "  if i in nums:\n",
        "    listk.append(nums.index(i))\n",
        "\n",
        "print(listk[1:])"
      ],
      "execution_count": null,
      "outputs": [
        {
          "output_type": "stream",
          "text": [
            "2 7 11 15\n",
            "9\n",
            "[0, 1]\n"
          ],
          "name": "stdout"
        }
      ]
    },
    {
      "cell_type": "code",
      "metadata": {
        "colab": {
          "base_uri": "https://localhost:8080/"
        },
        "id": "vg1xpZNl9hfu",
        "outputId": "4baca4cd-b545-4b55-b3ee-85f21a72913c"
      },
      "source": [
        "listk"
      ],
      "execution_count": null,
      "outputs": [
        {
          "output_type": "execute_result",
          "data": {
            "text/plain": [
              "[[], 0, 1]"
            ]
          },
          "metadata": {
            "tags": []
          },
          "execution_count": 61
        }
      ]
    },
    {
      "cell_type": "code",
      "metadata": {
        "colab": {
          "base_uri": "https://localhost:8080/"
        },
        "id": "rL-3VgjTv6D-",
        "outputId": "4e64a854-92f8-4b8c-c70d-f7b4b6730ac9"
      },
      "source": [
        "listf"
      ],
      "execution_count": null,
      "outputs": [
        {
          "output_type": "execute_result",
          "data": {
            "text/plain": [
              "[[],\n",
              " [15],\n",
              " [11],\n",
              " [11, 15],\n",
              " [7],\n",
              " [7, 15],\n",
              " [7, 11],\n",
              " [7, 11, 15],\n",
              " [2],\n",
              " [2, 15],\n",
              " [2, 11],\n",
              " [2, 11, 15],\n",
              " [2, 7],\n",
              " [2, 7, 15],\n",
              " [2, 7, 11],\n",
              " [2, 7, 11, 15]]"
            ]
          },
          "metadata": {
            "tags": []
          },
          "execution_count": 32
        }
      ]
    },
    {
      "cell_type": "code",
      "metadata": {
        "colab": {
          "base_uri": "https://localhost:8080/"
        },
        "id": "4K2ebRmkwBXG",
        "outputId": "e105d129-4ee9-4f7a-a7d6-42cacc2cffb5"
      },
      "source": [
        "lists"
      ],
      "execution_count": null,
      "outputs": [
        {
          "output_type": "execute_result",
          "data": {
            "text/plain": [
              "[[], 0, 15, 11, 26, 7, 22, 18, 33, 2, 17, 13, 28, 9, 24, 20, 35]"
            ]
          },
          "metadata": {
            "tags": []
          },
          "execution_count": 33
        }
      ]
    },
    {
      "cell_type": "code",
      "metadata": {
        "colab": {
          "base_uri": "https://localhost:8080/"
        },
        "id": "nEGTi3Cu_Ce2",
        "outputId": "e9504269-c0fd-4c83-8f22-84a150891a92"
      },
      "source": [
        "def x(nums,target):\n",
        "  listc = [[]]\n",
        "  for i in nums:\n",
        "    if (target - i) in nums:\n",
        "      listc.append([nums.index(target-i),nums.index(i)])\n",
        "  return listc\n",
        "nums = list(map(int,input().split()))\n",
        "target = int(input())\n",
        "x(nums,target)"
      ],
      "execution_count": null,
      "outputs": [
        {
          "output_type": "stream",
          "text": [
            "3 3\n",
            "6\n"
          ],
          "name": "stdout"
        },
        {
          "output_type": "execute_result",
          "data": {
            "text/plain": [
              "[[], [0, 0], [0, 0]]"
            ]
          },
          "metadata": {
            "tags": []
          },
          "execution_count": 63
        }
      ]
    },
    {
      "cell_type": "code",
      "metadata": {
        "colab": {
          "base_uri": "https://localhost:8080/"
        },
        "id": "oOBkAG0dAjW2",
        "outputId": "e025ba84-113e-4969-91f9-7e4a81ace345"
      },
      "source": [
        "listc"
      ],
      "execution_count": null,
      "outputs": [
        {
          "output_type": "execute_result",
          "data": {
            "text/plain": [
              "[[]]"
            ]
          },
          "metadata": {
            "tags": []
          },
          "execution_count": 44
        }
      ]
    },
    {
      "cell_type": "code",
      "metadata": {
        "colab": {
          "base_uri": "https://localhost:8080/",
          "height": 350
        },
        "id": "WyjK49wKEjK-",
        "outputId": "08edf936-2ecb-47ef-b9aa-cfc575badbc8"
      },
      "source": [
        "class Solution:\n",
        "    def sub_sets(self, sset):\n",
        "        return self.subsetsRecur([], sorted(sset))\n",
        "    \n",
        "    def subsetsRecur(self, current, sset):\n",
        "        if sset:\n",
        "            return self.subsetsRecur(current, sset[1:]) + self.subsetsRecur(current + [sset[0]], sset[1:])\n",
        "        return [current]\n",
        "    \n",
        "    def twoSum(self, nums: List[int], target: int) -> List[int]:\n",
        "        listf = Solution().sub_sets(nums)\n",
        "        listc = [[]]\n",
        "        lists = [[]]\n",
        "        listk = [[]]\n",
        "        \n",
        "        for j in listf:\n",
        "            lists.append(sum(j))\n",
        "        lindex = lists.index(target)\n",
        "\n",
        "        listc = listf[lindex-1]\n",
        "\n",
        "        for i in listc:\n",
        "            if i in nums:\n",
        "                listk.append(nums.index(i))\n",
        "\n",
        "        print(listk[1:])\n",
        "\n",
        "Solution().twoSum([2,7,11,15],9)"
      ],
      "execution_count": null,
      "outputs": [
        {
          "output_type": "error",
          "ename": "NameError",
          "evalue": "ignored",
          "traceback": [
            "\u001b[0;31m---------------------------------------------------------------------------\u001b[0m",
            "\u001b[0;31mNameError\u001b[0m                                 Traceback (most recent call last)",
            "\u001b[0;32m<ipython-input-55-e4c9a4568dd7>\u001b[0m in \u001b[0;36m<module>\u001b[0;34m()\u001b[0m\n\u001b[0;32m----> 1\u001b[0;31m \u001b[0;32mclass\u001b[0m \u001b[0mSolution\u001b[0m\u001b[0;34m:\u001b[0m\u001b[0;34m\u001b[0m\u001b[0;34m\u001b[0m\u001b[0m\n\u001b[0m\u001b[1;32m      2\u001b[0m     \u001b[0;32mdef\u001b[0m \u001b[0msub_sets\u001b[0m\u001b[0;34m(\u001b[0m\u001b[0mself\u001b[0m\u001b[0;34m,\u001b[0m \u001b[0msset\u001b[0m\u001b[0;34m)\u001b[0m\u001b[0;34m:\u001b[0m\u001b[0;34m\u001b[0m\u001b[0;34m\u001b[0m\u001b[0m\n\u001b[1;32m      3\u001b[0m         \u001b[0;32mreturn\u001b[0m \u001b[0mself\u001b[0m\u001b[0;34m.\u001b[0m\u001b[0msubsetsRecur\u001b[0m\u001b[0;34m(\u001b[0m\u001b[0;34m[\u001b[0m\u001b[0;34m]\u001b[0m\u001b[0;34m,\u001b[0m \u001b[0msorted\u001b[0m\u001b[0;34m(\u001b[0m\u001b[0msset\u001b[0m\u001b[0;34m)\u001b[0m\u001b[0;34m)\u001b[0m\u001b[0;34m\u001b[0m\u001b[0;34m\u001b[0m\u001b[0m\n\u001b[1;32m      4\u001b[0m \u001b[0;34m\u001b[0m\u001b[0m\n\u001b[1;32m      5\u001b[0m     \u001b[0;32mdef\u001b[0m \u001b[0msubsetsRecur\u001b[0m\u001b[0;34m(\u001b[0m\u001b[0mself\u001b[0m\u001b[0;34m,\u001b[0m \u001b[0mcurrent\u001b[0m\u001b[0;34m,\u001b[0m \u001b[0msset\u001b[0m\u001b[0;34m)\u001b[0m\u001b[0;34m:\u001b[0m\u001b[0;34m\u001b[0m\u001b[0;34m\u001b[0m\u001b[0m\n",
            "\u001b[0;32m<ipython-input-55-e4c9a4568dd7>\u001b[0m in \u001b[0;36mSolution\u001b[0;34m()\u001b[0m\n\u001b[1;32m      8\u001b[0m         \u001b[0;32mreturn\u001b[0m \u001b[0;34m[\u001b[0m\u001b[0mcurrent\u001b[0m\u001b[0;34m]\u001b[0m\u001b[0;34m\u001b[0m\u001b[0;34m\u001b[0m\u001b[0m\n\u001b[1;32m      9\u001b[0m \u001b[0;34m\u001b[0m\u001b[0m\n\u001b[0;32m---> 10\u001b[0;31m     \u001b[0;32mdef\u001b[0m \u001b[0mtwoSum\u001b[0m\u001b[0;34m(\u001b[0m\u001b[0mself\u001b[0m\u001b[0;34m,\u001b[0m \u001b[0mnums\u001b[0m\u001b[0;34m:\u001b[0m \u001b[0mList\u001b[0m\u001b[0;34m[\u001b[0m\u001b[0mint\u001b[0m\u001b[0;34m]\u001b[0m\u001b[0;34m,\u001b[0m \u001b[0mtarget\u001b[0m\u001b[0;34m:\u001b[0m \u001b[0mint\u001b[0m\u001b[0;34m)\u001b[0m \u001b[0;34m->\u001b[0m \u001b[0mList\u001b[0m\u001b[0;34m[\u001b[0m\u001b[0mint\u001b[0m\u001b[0;34m]\u001b[0m\u001b[0;34m:\u001b[0m\u001b[0;34m\u001b[0m\u001b[0;34m\u001b[0m\u001b[0m\n\u001b[0m\u001b[1;32m     11\u001b[0m         \u001b[0mlistf\u001b[0m \u001b[0;34m=\u001b[0m \u001b[0mSolution\u001b[0m\u001b[0;34m(\u001b[0m\u001b[0;34m)\u001b[0m\u001b[0;34m.\u001b[0m\u001b[0msub_sets\u001b[0m\u001b[0;34m(\u001b[0m\u001b[0mnums\u001b[0m\u001b[0;34m)\u001b[0m\u001b[0;34m\u001b[0m\u001b[0;34m\u001b[0m\u001b[0m\n\u001b[1;32m     12\u001b[0m         \u001b[0mlistc\u001b[0m \u001b[0;34m=\u001b[0m \u001b[0;34m[\u001b[0m\u001b[0;34m[\u001b[0m\u001b[0;34m]\u001b[0m\u001b[0;34m]\u001b[0m\u001b[0;34m\u001b[0m\u001b[0;34m\u001b[0m\u001b[0m\n",
            "\u001b[0;31mNameError\u001b[0m: name 'List' is not defined"
          ]
        }
      ]
    },
    {
      "cell_type": "code",
      "metadata": {
        "colab": {
          "base_uri": "https://localhost:8080/"
        },
        "id": "dULYKLQ8KXRN",
        "outputId": "3e72051a-7cc1-4d7a-c602-b9e5f5560143"
      },
      "source": [
        "x = int(input())\n",
        "if x>0:\n",
        "  new = str(x)\n",
        "  new1 = new[::-1]\n",
        "  print(int(new1))\n",
        "if x<0:\n",
        "  new = str(x)\n",
        "  new1 = (new[::-1].strip('-'))\n",
        "  print((0-int(new1)))"
      ],
      "execution_count": null,
      "outputs": [
        {
          "output_type": "stream",
          "text": [
            "-123\n",
            "-321\n"
          ],
          "name": "stdout"
        }
      ]
    },
    {
      "cell_type": "code",
      "metadata": {
        "colab": {
          "base_uri": "https://localhost:8080/"
        },
        "id": "KfgFNspmQjbe",
        "outputId": "7603b653-27bd-423e-fc09-a3e0d9cc7ae9"
      },
      "source": [
        "x = int(input())\n",
        "old_x = x\n",
        "number = 0\n",
        "if old_x>0:\n",
        "    while x>0:\n",
        "        number = number*10 + (x%10)\n",
        "        x = x/10\n",
        "    if number == old_x:\n",
        "        print('true')\n",
        "    else:\n",
        "        print('false')\n",
        "if old_x<0:\n",
        "    print('false')\n",
        "if old_x == 0:\n",
        "    print('true')"
      ],
      "execution_count": null,
      "outputs": [
        {
          "output_type": "stream",
          "text": [
            "-123\n",
            "false\n"
          ],
          "name": "stdout"
        }
      ]
    },
    {
      "cell_type": "code",
      "metadata": {
        "id": "g7UwMejIYhGF"
      },
      "source": [
        "def new(x):\n",
        "  x = int(x)\n",
        "  old_x = x\n",
        "  number = 0\n",
        "  print(x)\n",
        "  if x>0:\n",
        "      while old_x>0:\n",
        "          number = number*10 + int((old_x)%10)\n",
        "          old_x = int(old_x/10)\n",
        "          print(old_x)\n",
        "          \n",
        "      if number == x:\n",
        "          return 'true'\n",
        "      else:\n",
        "          return 'false'\n",
        "  if x<0:\n",
        "      return 'false'\n",
        "  if x == 0:\n",
        "      return 'true'"
      ],
      "execution_count": null,
      "outputs": []
    },
    {
      "cell_type": "code",
      "metadata": {
        "colab": {
          "base_uri": "https://localhost:8080/",
          "height": 52
        },
        "id": "zTfJrP3jY1FN",
        "outputId": "c136e3da-4a4f-4e87-e1ec-8ac37e3b4073"
      },
      "source": [
        "new(-121)"
      ],
      "execution_count": null,
      "outputs": [
        {
          "output_type": "stream",
          "text": [
            "-121\n"
          ],
          "name": "stdout"
        },
        {
          "output_type": "execute_result",
          "data": {
            "application/vnd.google.colaboratory.intrinsic+json": {
              "type": "string"
            },
            "text/plain": [
              "'false'"
            ]
          },
          "metadata": {
            "tags": []
          },
          "execution_count": 99
        }
      ]
    },
    {
      "cell_type": "code",
      "metadata": {
        "colab": {
          "base_uri": "https://localhost:8080/"
        },
        "id": "89JgGuvOZlFG",
        "outputId": "684631b4-a2dd-4a0a-f2e5-c5a9cb163c81"
      },
      "source": [
        "number = 0 \n",
        "print(type(number))"
      ],
      "execution_count": null,
      "outputs": [
        {
          "output_type": "stream",
          "text": [
            "<class 'int'>\n"
          ],
          "name": "stdout"
        }
      ]
    },
    {
      "cell_type": "code",
      "metadata": {
        "colab": {
          "base_uri": "https://localhost:8080/"
        },
        "id": "DLQEfbubY9Hk",
        "outputId": "61f6fc73-638e-4820-a9f1-0e75bea3686e"
      },
      "source": [
        "1 is 1"
      ],
      "execution_count": null,
      "outputs": [
        {
          "output_type": "execute_result",
          "data": {
            "text/plain": [
              "True"
            ]
          },
          "metadata": {
            "tags": []
          },
          "execution_count": 78
        }
      ]
    },
    {
      "cell_type": "code",
      "metadata": {
        "id": "0nWKx8OrY-AG"
      },
      "source": [
        ""
      ],
      "execution_count": null,
      "outputs": []
    },
    {
      "cell_type": "markdown",
      "metadata": {
        "id": "0uVdDDbfUBI8"
      },
      "source": [
        "Roman numerals are represented by seven different symbols: I, V, X, L, C, D and M.\n",
        "\n",
        "Symbol       Value\n",
        "I             1\n",
        "V             5\n",
        "X             10\n",
        "L             50\n",
        "C             100\n",
        "D             500\n",
        "M             1000\n",
        "For example, 2 is written as II in Roman numeral, just two one's added together. 12 is written as XII, which is simply X + II. The number 27 is written as XXVII, which is XX + V + II.\n",
        "\n",
        "Roman numerals are usually written largest to smallest from left to right. However, the numeral for four is not IIII. Instead, the number four is written as IV. Because the one is before the five we subtract it making four. The same principle applies to the number nine, which is written as IX. There are six instances where subtraction is used:\n",
        "\n",
        "I can be placed before V (5) and X (10) to make 4 and 9. \n",
        "X can be placed before L (50) and C (100) to make 40 and 90. \n",
        "C can be placed before D (500) and M (1000) to make 400 and 900."
      ]
    },
    {
      "cell_type": "code",
      "metadata": {
        "colab": {
          "base_uri": "https://localhost:8080/"
        },
        "id": "wkUBSlZtUCLi",
        "outputId": "3db424b3-6d7a-49db-8b4a-9410960a2797"
      },
      "source": [
        "sym = {'I':1,'V':5,'X':10,'L':50,'C':100,'D':500,'M':1000}\n",
        "num = input()\n",
        "j=sym[num[len(num)-1]]\n",
        "sum=0\n",
        "for i in range(len(num)-2,-1,-1):\n",
        "    if sym[num[i]] >= sym[num[i+1]]:\n",
        "      j = j+sym[num[i]]\n",
        "    else:\n",
        "      j = j-sym[num[i]]\n",
        "print(j)  \n",
        "\n",
        "\n",
        "\n"
      ],
      "execution_count": null,
      "outputs": [
        {
          "output_type": "stream",
          "text": [
            "LVIII\n",
            "58\n"
          ],
          "name": "stdout"
        }
      ]
    },
    {
      "cell_type": "code",
      "metadata": {
        "colab": {
          "base_uri": "https://localhost:8080/"
        },
        "id": "Kye6cAOCXp-9",
        "outputId": "040b4644-7f3a-4dbd-afd0-802556a304a2"
      },
      "source": [
        "id('I')"
      ],
      "execution_count": null,
      "outputs": [
        {
          "output_type": "execute_result",
          "data": {
            "text/plain": [
              "140459363721776"
            ]
          },
          "metadata": {
            "tags": []
          },
          "execution_count": 7
        }
      ]
    },
    {
      "cell_type": "code",
      "metadata": {
        "colab": {
          "base_uri": "https://localhost:8080/"
        },
        "id": "yR24XHpSX04a",
        "outputId": "3640bcb9-9280-4fb3-c902-1cbd790e603b"
      },
      "source": [
        "id('V')"
      ],
      "execution_count": null,
      "outputs": [
        {
          "output_type": "execute_result",
          "data": {
            "text/plain": [
              "140459363003248"
            ]
          },
          "metadata": {
            "tags": []
          },
          "execution_count": 10
        }
      ]
    },
    {
      "cell_type": "code",
      "metadata": {
        "colab": {
          "base_uri": "https://localhost:8080/"
        },
        "id": "lkVtIvnfYAR6",
        "outputId": "3f16bac1-0da8-4b9b-a940-0541e2e41d52"
      },
      "source": [
        "id('X')"
      ],
      "execution_count": null,
      "outputs": [
        {
          "output_type": "execute_result",
          "data": {
            "text/plain": [
              "140459363236272"
            ]
          },
          "metadata": {
            "tags": []
          },
          "execution_count": 11
        }
      ]
    },
    {
      "cell_type": "code",
      "metadata": {
        "colab": {
          "base_uri": "https://localhost:8080/"
        },
        "id": "3syrrftMYF7i",
        "outputId": "5e350cad-d6ae-4f18-dc42-d9cd5fb4b792"
      },
      "source": [
        "id('L')"
      ],
      "execution_count": null,
      "outputs": [
        {
          "output_type": "execute_result",
          "data": {
            "text/plain": [
              "140459363236080"
            ]
          },
          "metadata": {
            "tags": []
          },
          "execution_count": 12
        }
      ]
    },
    {
      "cell_type": "code",
      "metadata": {
        "colab": {
          "base_uri": "https://localhost:8080/"
        },
        "id": "TJJvs1ezcorD",
        "outputId": "b24e088f-7e10-42a3-8b73-b9020c70a830"
      },
      "source": [
        "import itertools\n",
        "strs = [\"flower\"]\n",
        "strss = [\"floew\"]\n",
        "k=1\n",
        "\n",
        "string1_words = {word for word in \"flower\"}\n",
        "string2_words = {word for word in \"flow\"}\n",
        "print(string1_words)\n",
        "common_words = string1_words & string2_words\n",
        "common_words\n"
      ],
      "execution_count": null,
      "outputs": [
        {
          "output_type": "stream",
          "text": [
            "{'f', 'e', 'o', 'w', 'l', 'r'}\n"
          ],
          "name": "stdout"
        },
        {
          "output_type": "execute_result",
          "data": {
            "text/plain": [
              "{'f', 'l', 'o', 'w'}"
            ]
          },
          "metadata": {
            "tags": []
          },
          "execution_count": 28
        }
      ]
    },
    {
      "cell_type": "code",
      "metadata": {
        "colab": {
          "base_uri": "https://localhost:8080/",
          "height": 231
        },
        "id": "pcza1KXwrpR7",
        "outputId": "83ec9eab-85c5-4873-8588-1b5b6b597bc0"
      },
      "source": [
        "def split(word): \n",
        "    return [char for char in word]  \n",
        "      \n",
        "# Driver code \n",
        "word1 = 'flower'\n",
        "word2 = 'flow'\n",
        "new = split(word1)\n",
        "new1 = split(word2) \n",
        "\n",
        "com_word = new & new1\n",
        "com_word\n",
        "#Output ['g', 'e', 'e', 'k', 's']"
      ],
      "execution_count": null,
      "outputs": [
        {
          "output_type": "error",
          "ename": "TypeError",
          "evalue": "ignored",
          "traceback": [
            "\u001b[0;31m---------------------------------------------------------------------------\u001b[0m",
            "\u001b[0;31mTypeError\u001b[0m                                 Traceback (most recent call last)",
            "\u001b[0;32m<ipython-input-30-fda832dbd694>\u001b[0m in \u001b[0;36m<module>\u001b[0;34m()\u001b[0m\n\u001b[1;32m      8\u001b[0m \u001b[0mnew1\u001b[0m \u001b[0;34m=\u001b[0m \u001b[0msplit\u001b[0m\u001b[0;34m(\u001b[0m\u001b[0mword2\u001b[0m\u001b[0;34m)\u001b[0m\u001b[0;34m\u001b[0m\u001b[0;34m\u001b[0m\u001b[0m\n\u001b[1;32m      9\u001b[0m \u001b[0;34m\u001b[0m\u001b[0m\n\u001b[0;32m---> 10\u001b[0;31m \u001b[0mcom_word\u001b[0m \u001b[0;34m=\u001b[0m \u001b[0mnew\u001b[0m \u001b[0;34m&\u001b[0m \u001b[0mnew1\u001b[0m\u001b[0;34m\u001b[0m\u001b[0;34m\u001b[0m\u001b[0m\n\u001b[0m\u001b[1;32m     11\u001b[0m \u001b[0mcom_word\u001b[0m\u001b[0;34m\u001b[0m\u001b[0;34m\u001b[0m\u001b[0m\n\u001b[1;32m     12\u001b[0m \u001b[0;31m#Output ['g', 'e', 'e', 'k', 's']\u001b[0m\u001b[0;34m\u001b[0m\u001b[0;34m\u001b[0m\u001b[0;34m\u001b[0m\u001b[0m\n",
            "\u001b[0;31mTypeError\u001b[0m: unsupported operand type(s) for &: 'list' and 'list'"
          ]
        }
      ]
    },
    {
      "cell_type": "code",
      "metadata": {
        "colab": {
          "base_uri": "https://localhost:8080/",
          "height": 231
        },
        "id": "lUHS3048TteA",
        "outputId": "6f5762ec-4ab1-4347-9f22-7f90edec1a4d"
      },
      "source": [
        "strs = [\"flower\",\"flow\",\"flight\"]\n",
        "result = \"\"\n",
        "ctr = 1\n",
        "i = 1\n",
        "index = len(strs[0])\n",
        "isMatched = False\n",
        "\n",
        "while ctr < index + 2:\n",
        "  if strs[0][0:ctr] == strs[i][0:ctr] and ctr <= index+1:\n",
        "        isMatched = True\n",
        "        i += 1\n",
        "  if i == len(strs) and isMatched:\n",
        "        result = strs[0][0:ctr]\n",
        "  elif i == len(strs) or not isMatched:\n",
        "        break"
      ],
      "execution_count": null,
      "outputs": [
        {
          "output_type": "error",
          "ename": "IndexError",
          "evalue": "ignored",
          "traceback": [
            "\u001b[0;31m---------------------------------------------------------------------------\u001b[0m",
            "\u001b[0;31mIndexError\u001b[0m                                Traceback (most recent call last)",
            "\u001b[0;32m<ipython-input-13-147f3e5bbeb5>\u001b[0m in \u001b[0;36m<module>\u001b[0;34m()\u001b[0m\n\u001b[1;32m      7\u001b[0m \u001b[0;34m\u001b[0m\u001b[0m\n\u001b[1;32m      8\u001b[0m \u001b[0;32mwhile\u001b[0m \u001b[0mctr\u001b[0m \u001b[0;34m<\u001b[0m \u001b[0mindex\u001b[0m \u001b[0;34m+\u001b[0m \u001b[0;36m2\u001b[0m\u001b[0;34m:\u001b[0m\u001b[0;34m\u001b[0m\u001b[0;34m\u001b[0m\u001b[0m\n\u001b[0;32m----> 9\u001b[0;31m   \u001b[0;32mif\u001b[0m \u001b[0mstrs\u001b[0m\u001b[0;34m[\u001b[0m\u001b[0;36m0\u001b[0m\u001b[0;34m]\u001b[0m\u001b[0;34m[\u001b[0m\u001b[0;36m0\u001b[0m\u001b[0;34m:\u001b[0m\u001b[0mctr\u001b[0m\u001b[0;34m]\u001b[0m \u001b[0;34m==\u001b[0m \u001b[0mstrs\u001b[0m\u001b[0;34m[\u001b[0m\u001b[0mi\u001b[0m\u001b[0;34m]\u001b[0m\u001b[0;34m[\u001b[0m\u001b[0;36m0\u001b[0m\u001b[0;34m:\u001b[0m\u001b[0mctr\u001b[0m\u001b[0;34m]\u001b[0m \u001b[0;32mand\u001b[0m \u001b[0mctr\u001b[0m \u001b[0;34m<=\u001b[0m \u001b[0mindex\u001b[0m\u001b[0;34m+\u001b[0m\u001b[0;36m1\u001b[0m\u001b[0;34m:\u001b[0m\u001b[0;34m\u001b[0m\u001b[0;34m\u001b[0m\u001b[0m\n\u001b[0m\u001b[1;32m     10\u001b[0m         \u001b[0misMatched\u001b[0m \u001b[0;34m=\u001b[0m \u001b[0;32mTrue\u001b[0m\u001b[0;34m\u001b[0m\u001b[0;34m\u001b[0m\u001b[0m\n\u001b[1;32m     11\u001b[0m         \u001b[0mi\u001b[0m \u001b[0;34m+=\u001b[0m \u001b[0;36m1\u001b[0m\u001b[0;34m\u001b[0m\u001b[0;34m\u001b[0m\u001b[0m\n",
            "\u001b[0;31mIndexError\u001b[0m: list index out of range"
          ]
        }
      ]
    },
    {
      "cell_type": "code",
      "metadata": {
        "id": "HCeWRoDEeHj3"
      },
      "source": [
        ""
      ],
      "execution_count": null,
      "outputs": []
    },
    {
      "cell_type": "code",
      "metadata": {
        "id": "_WQainYTb6gx"
      },
      "source": [
        "def sub_lists (l):\n",
        "    lists = []\n",
        "    for i in range(len(l) + 1):\n",
        "        for j in range(i):\n",
        "            lists.append(l[j: i])\n",
        "    return lists\n",
        " \n",
        "\n",
        "l1 = [1,0,1,0,1]\n",
        "ls = sub_lists(l1)\n",
        "z = []\n",
        "for k in ls:\n",
        "  z.append(int(''.join(str(e) for e in k)))\n",
        "\n"
      ],
      "execution_count": null,
      "outputs": []
    },
    {
      "cell_type": "code",
      "metadata": {
        "colab": {
          "base_uri": "https://localhost:8080/"
        },
        "id": "09mQfVZ0lSgv",
        "outputId": "54dfa1c6-5c72-447c-9c8d-b7a8fe114ab7"
      },
      "source": [
        "print(ls)\n",
        "z"
      ],
      "execution_count": null,
      "outputs": [
        {
          "output_type": "stream",
          "text": [
            "[[1], [1, 0], [0], [1, 0, 1], [0, 1], [1], [1, 0, 1, 0], [0, 1, 0], [1, 0], [0], [1, 0, 1, 0, 1], [0, 1, 0, 1], [1, 0, 1], [0, 1], [1]]\n"
          ],
          "name": "stdout"
        },
        {
          "output_type": "execute_result",
          "data": {
            "text/plain": [
              "[1, 10, 0, 101, 1, 1, 1010, 10, 10, 0, 10101, 101, 101, 1, 1]"
            ]
          },
          "metadata": {
            "tags": []
          },
          "execution_count": 9
        }
      ]
    },
    {
      "cell_type": "code",
      "metadata": {
        "id": "_uUYdPI1JwPa"
      },
      "source": [
        "def longestCommonPrefix(self, strs: List[str]) -> str:\n",
        "        p = ''\n",
        "        for i in range(len(min(strs, key=len))):\n",
        "            f = strs[0][i]\n",
        "            for s in strs[1:]:\n",
        "                if s[i] != f:\n",
        "                    return p\n",
        "            p += f\n",
        "        return p"
      ],
      "execution_count": null,
      "outputs": []
    },
    {
      "cell_type": "code",
      "metadata": {
        "colab": {
          "base_uri": "https://localhost:8080/",
          "height": 129
        },
        "id": "Jg2_Cva4KXUz",
        "outputId": "2704cfc0-c57d-456c-c972-7ea490c70647"
      },
      "source": [
        "strs = [\"flower\",\"flow\",\"flight\"]\n",
        "s = ''\n",
        "for i in range(len(min(strs,key=len))):\n",
        "  w = strs[0][i]\n",
        "  for j in strs[1:]:\n",
        "    if j[i] != w:\n",
        "      return s\n",
        "  s = s+w  \n",
        "    \n",
        "  return s"
      ],
      "execution_count": null,
      "outputs": [
        {
          "output_type": "error",
          "ename": "SyntaxError",
          "evalue": "ignored",
          "traceback": [
            "\u001b[0;36m  File \u001b[0;32m\"<ipython-input-4-e334d8896205>\"\u001b[0;36m, line \u001b[0;32m9\u001b[0m\n\u001b[0;31m    return s\u001b[0m\n\u001b[0m    ^\u001b[0m\n\u001b[0;31mSyntaxError\u001b[0m\u001b[0;31m:\u001b[0m 'return' outside function\n"
          ]
        }
      ]
    },
    {
      "cell_type": "code",
      "metadata": {
        "colab": {
          "base_uri": "https://localhost:8080/"
        },
        "id": "Ti2YplskKr-K",
        "outputId": "50e07af0-15bb-4e4f-d87e-955e4c3f2894"
      },
      "source": [
        "strs = [\"flower\",\"flow\",\"flight\"]\n",
        "strs[0][1]\n",
        "for i in range(len(min(strs,key=len))):\n",
        "  "
      ],
      "execution_count": null,
      "outputs": [
        {
          "output_type": "execute_result",
          "data": {
            "text/plain": [
              "4"
            ]
          },
          "metadata": {
            "tags": []
          },
          "execution_count": 3
        }
      ]
    },
    {
      "cell_type": "code",
      "metadata": {
        "colab": {
          "base_uri": "https://localhost:8080/"
        },
        "id": "vXegLmVWO99V",
        "outputId": "6497f035-babc-4e45-eed4-32be9f096c40"
      },
      "source": [
        "str = \"(([]){})\"\n",
        "\n",
        "bd = {'[':']','(':')','{':'}'}\n",
        "j=-1\n",
        "f = False\n",
        "try:\n",
        "  for k in range(0,len(str),2):\n",
        "    if str[(k+1)-len(str)] == bd[str[k]]:\n",
        "      f = True\n",
        "    else:\n",
        "      f = False\n",
        "except:\n",
        "  for i in str[:(len(str)+1)//2]:\n",
        "    try:\n",
        "      if str[j] == bd[i]:\n",
        "        f = True\n",
        "        j=j-1\n",
        "      else:\n",
        "        f = False\n",
        "    except:\n",
        "      f = False\n",
        "\n",
        "f\n"
      ],
      "execution_count": 1,
      "outputs": [
        {
          "output_type": "execute_result",
          "data": {
            "text/plain": [
              "False"
            ]
          },
          "metadata": {
            "tags": []
          },
          "execution_count": 1
        }
      ]
    },
    {
      "cell_type": "code",
      "metadata": {
        "colab": {
          "base_uri": "https://localhost:8080/"
        },
        "id": "st3__G5Vne-C",
        "outputId": "8be8bc20-0aa0-4eb9-81c0-283a6691e1f1"
      },
      "source": [
        "str = \"()[]{\"\n",
        "bd = {'[':']','(':')','{':'}'}\n",
        "j=-1\n",
        "f = False\n",
        "\n",
        "for i in str[:(len(str)+1)//2]:\n",
        "  for k in range(0,len(str),2):\n",
        "    if str[(k+1)-len(str)] == bd[str[k]]:\n",
        "      f = True\n",
        "    else:\n",
        "      try:\n",
        "        if str[j] != bd[i]:\n",
        "          f = False\n",
        "          break\n",
        "      except:\n",
        "        f = True\n",
        "        j=j-1\n",
        "f"
      ],
      "execution_count": 52,
      "outputs": [
        {
          "output_type": "execute_result",
          "data": {
            "text/plain": [
              "True"
            ]
          },
          "metadata": {
            "tags": []
          },
          "execution_count": 52
        }
      ]
    },
    {
      "cell_type": "code",
      "metadata": {
        "colab": {
          "base_uri": "https://localhost:8080/",
          "height": 35
        },
        "id": "5itOni41XLvG",
        "outputId": "2146f289-64a5-4427-940b-860256722d0a"
      },
      "source": [
        "str = \"()[]{}\"\n",
        "str[0]"
      ],
      "execution_count": 41,
      "outputs": [
        {
          "output_type": "execute_result",
          "data": {
            "application/vnd.google.colaboratory.intrinsic+json": {
              "type": "string"
            },
            "text/plain": [
              "'('"
            ]
          },
          "metadata": {
            "tags": []
          },
          "execution_count": 41
        }
      ]
    }
  ]
}